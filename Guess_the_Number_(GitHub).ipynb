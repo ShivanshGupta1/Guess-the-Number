{
  "nbformat": 4,
  "nbformat_minor": 0,
  "metadata": {
    "colab": {
      "name": "Guess the Number (GitHub).ipynb",
      "provenance": [],
      "authorship_tag": "ABX9TyOoa03y29uTMiRG6nfGzQ1U",
      "include_colab_link": true
    },
    "kernelspec": {
      "name": "python3",
      "display_name": "Python 3"
    }
  },
  "cells": [
    {
      "cell_type": "markdown",
      "metadata": {
        "id": "view-in-github",
        "colab_type": "text"
      },
      "source": [
        "<a href=\"https://colab.research.google.com/github/ShivanshGupta1/Guess-the-Number/blob/main/Guess_the_Number_(GitHub).ipynb\" target=\"_parent\"><img src=\"https://colab.research.google.com/assets/colab-badge.svg\" alt=\"Open In Colab\"/></a>"
      ]
    },
    {
      "cell_type": "code",
      "metadata": {
        "id": "jFBuaV1nyFyx"
      },
      "source": [
        "from random import *\n",
        "a = randint(1,10)\n",
        "b = int(input('Guess the number: '))\n",
        "if a==b:\n",
        "  print('Wow you guessed it correct, the number was ', a)\n",
        "else:\n",
        "  print('UH! OH! WRONG NUMBER! THE NUMBER WAS ', a)\n"
      ],
      "execution_count": null,
      "outputs": []
    }
  ]
}